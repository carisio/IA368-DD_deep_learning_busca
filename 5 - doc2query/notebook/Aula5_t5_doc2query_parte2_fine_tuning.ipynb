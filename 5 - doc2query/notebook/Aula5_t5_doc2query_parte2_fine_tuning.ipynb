{
  "cells": [
    {
      "cell_type": "markdown",
      "metadata": {
        "id": "nijqtclnt6Fn"
      },
      "source": [
        "# Aula 5 - Solução dos exercícios - Parte 2\n",
        "Leandro Carísio Fernandes\n",
        "\n",
        "<br>\n",
        "\n",
        "Treinar um modelo seq2seq (a partir do T5-base) na tarefa de expansão de documentos.\n",
        "\n",
        "- Usar como treino o dataset \"tiny\" do MS MARCO na tarefa doc2query\n",
        "https://storage.googleapis.com/unicamp-dl/ia368dd_2023s1/msmarco/msmarco_triples.train.tiny.tsv\n",
        "- doc2query: A entrada é a passagem e o target é a query\n",
        "- Note que apenas pares (query, passagem relevante) são usados como treino.\n",
        "- O treino é relativamente rápido (<1 hora).\n",
        "- Validar a cada X steps usando o sacreBLEU \n",
        "- A parte lenta deste exercício é a pré-indexação: para cada documento da coleção, temos que gerar uma ou mais queries, que depois são concatenadas ao documento original, e esse documento \"expandido\" é indexado.\n",
        "- Avaliar no TREC-COVID (171K docs), pois é menor que o MS MARCO/TREC-DL 2020 (8.8M passagens). \n",
        " - Indice invertido do Trec-covid no pyserini: beir-v1.0.0-trec-covid-flat\n",
        " - Corpus e queries na HF: https://huggingface.co/datasets/BeIR/trec-covid\n",
        " - qrels: https://huggingface.co/datasets/BeIR/trec-covid-qrels\n",
        " - Usar nDCG@10\n",
        " - Comparar com o BM25 com e sem os documentos expandidos pelo doc2query\n",
        "\n",
        "\n",
        "<br>\n",
        "\n",
        "Esse caderno contém apenas a parte 2 do exercício, o fine-tuning do T5 usando MS MARCO e geração das queries expandidas."
      ]
    },
    {
      "cell_type": "markdown",
      "metadata": {
        "id": "17mU2EO9uVvB"
      },
      "source": [
        "## Preparação do ambiente"
      ]
    },
    {
      "cell_type": "code",
      "execution_count": null,
      "metadata": {
        "id": "J1bFirwKuRgO"
      },
      "outputs": [],
      "source": [
        "# Estourou o disco e eu não consegui nem rodar o ls sem fazer isso:\n",
        "import locale\n",
        "def getpreferredencoding(do_setlocale = True):\n",
        "    return \"UTF-8\"\n",
        "locale.getpreferredencoding = getpreferredencoding"
      ]
    },
    {
      "cell_type": "markdown",
      "metadata": {
        "id": "shHyG6HLuXk-"
      },
      "source": [
        "### Variáveis\n"
      ]
    },
    {
      "cell_type": "code",
      "execution_count": null,
      "metadata": {
        "id": "eOpz-IMjuf6t"
      },
      "outputs": [],
      "source": [
        "# Link de download do dataset MS-MARCO reduzido\n",
        "url_tiny_msmarco = 'https://storage.googleapis.com/unicamp-dl/ia368dd_2023s1/msmarco/msmarco_triples.train.tiny.tsv'\n",
        "\n",
        "# Link de download da base TREC-COVID. O link foi retirado de https://huggingface.co/datasets/BeIR/trec-covid\n",
        "url_trec_covid = 'https://public.ukp.informatik.tu-darmstadt.de/thakur/BEIR/datasets/trec-covid.zip'\n",
        "\n",
        "# Dados para treinamento do modelo\n",
        "nome_modelo = \"t5-base\"\n",
        "treinar_modelo = False\n",
        "batch_size = 8\n",
        "steps = 50\n",
        "epochs = 100\n",
        "\n",
        "# Dados para recuperar o modelo\n",
        "carregar_modelo_tunado = True\n",
        "url_modelo_salvo = '/content/drive/My Drive/IA368-DD_deep_learning_busca/Aula5-t5-doc2query/modelo_doc_relevante_final/'\n",
        "\n",
        "# Dados para inferência\n",
        "expandir_docs = False # Já foi expandido, apenas carrega\n",
        "carregar_arquivo_docs_queries_expandidas = True\n",
        "inferir_docs_a_partir_do_indice = 171328\n",
        "batch_size_inferencia = 16\n",
        "numero_queries_geradas = 10\n",
        "arquivo_docs_queries_expandidas = '/content/drive/My Drive/IA368-DD_deep_learning_busca/Aula5-t5-doc2query/doc_com_queries_expandidas.pickle'"
      ]
    },
    {
      "cell_type": "markdown",
      "metadata": {
        "id": "Ju9WVpqIum4a"
      },
      "source": [
        "### Instalação de libs e montagem do Drive"
      ]
    },
    {
      "cell_type": "code",
      "execution_count": null,
      "metadata": {
        "id": "uaZzDSUFunoF",
        "colab": {
          "base_uri": "https://localhost:8080/"
        },
        "outputId": "fe488d62-3cea-48ec-9506-d84f797dac2a"
      },
      "outputs": [
        {
          "output_type": "stream",
          "name": "stdout",
          "text": [
            "Drive already mounted at /content/drive; to attempt to forcibly remount, call drive.mount(\"/content/drive\", force_remount=True).\n",
            "Looking in indexes: https://pypi.org/simple, https://us-python.pkg.dev/colab-wheels/public/simple/\n",
            "Requirement already satisfied: faiss-cpu in /usr/local/lib/python3.9/dist-packages (1.7.3)\n",
            "Looking in indexes: https://pypi.org/simple, https://us-python.pkg.dev/colab-wheels/public/simple/\n",
            "Requirement already satisfied: transformers in /usr/local/lib/python3.9/dist-packages (4.27.4)\n",
            "Requirement already satisfied: datasets in /usr/local/lib/python3.9/dist-packages (2.11.0)\n",
            "Requirement already satisfied: tokenizers!=0.11.3,<0.14,>=0.11.1 in /usr/local/lib/python3.9/dist-packages (from transformers) (0.13.3)\n",
            "Requirement already satisfied: packaging>=20.0 in /usr/local/lib/python3.9/dist-packages (from transformers) (23.0)\n",
            "Requirement already satisfied: requests in /usr/local/lib/python3.9/dist-packages (from transformers) (2.27.1)\n",
            "Requirement already satisfied: tqdm>=4.27 in /usr/local/lib/python3.9/dist-packages (from transformers) (4.65.0)\n",
            "Requirement already satisfied: filelock in /usr/local/lib/python3.9/dist-packages (from transformers) (3.10.7)\n",
            "Requirement already satisfied: numpy>=1.17 in /usr/local/lib/python3.9/dist-packages (from transformers) (1.22.4)\n",
            "Requirement already satisfied: regex!=2019.12.17 in /usr/local/lib/python3.9/dist-packages (from transformers) (2022.10.31)\n",
            "Requirement already satisfied: huggingface-hub<1.0,>=0.11.0 in /usr/local/lib/python3.9/dist-packages (from transformers) (0.13.4)\n",
            "Requirement already satisfied: pyyaml>=5.1 in /usr/local/lib/python3.9/dist-packages (from transformers) (6.0)\n",
            "Requirement already satisfied: responses<0.19 in /usr/local/lib/python3.9/dist-packages (from datasets) (0.18.0)\n",
            "Requirement already satisfied: fsspec[http]>=2021.11.1 in /usr/local/lib/python3.9/dist-packages (from datasets) (2023.3.0)\n",
            "Requirement already satisfied: pandas in /usr/local/lib/python3.9/dist-packages (from datasets) (1.4.4)\n",
            "Requirement already satisfied: multiprocess in /usr/local/lib/python3.9/dist-packages (from datasets) (0.70.14)\n",
            "Requirement already satisfied: dill<0.3.7,>=0.3.0 in /usr/local/lib/python3.9/dist-packages (from datasets) (0.3.6)\n",
            "Requirement already satisfied: aiohttp in /usr/local/lib/python3.9/dist-packages (from datasets) (3.8.4)\n",
            "Requirement already satisfied: pyarrow>=8.0.0 in /usr/local/lib/python3.9/dist-packages (from datasets) (9.0.0)\n",
            "Requirement already satisfied: xxhash in /usr/local/lib/python3.9/dist-packages (from datasets) (3.2.0)\n",
            "Requirement already satisfied: charset-normalizer<4.0,>=2.0 in /usr/local/lib/python3.9/dist-packages (from aiohttp->datasets) (2.0.12)\n",
            "Requirement already satisfied: async-timeout<5.0,>=4.0.0a3 in /usr/local/lib/python3.9/dist-packages (from aiohttp->datasets) (4.0.2)\n",
            "Requirement already satisfied: yarl<2.0,>=1.0 in /usr/local/lib/python3.9/dist-packages (from aiohttp->datasets) (1.8.2)\n",
            "Requirement already satisfied: attrs>=17.3.0 in /usr/local/lib/python3.9/dist-packages (from aiohttp->datasets) (22.2.0)\n",
            "Requirement already satisfied: frozenlist>=1.1.1 in /usr/local/lib/python3.9/dist-packages (from aiohttp->datasets) (1.3.3)\n",
            "Requirement already satisfied: aiosignal>=1.1.2 in /usr/local/lib/python3.9/dist-packages (from aiohttp->datasets) (1.3.1)\n",
            "Requirement already satisfied: multidict<7.0,>=4.5 in /usr/local/lib/python3.9/dist-packages (from aiohttp->datasets) (6.0.4)\n",
            "Requirement already satisfied: typing-extensions>=3.7.4.3 in /usr/local/lib/python3.9/dist-packages (from huggingface-hub<1.0,>=0.11.0->transformers) (4.5.0)\n",
            "Requirement already satisfied: certifi>=2017.4.17 in /usr/local/lib/python3.9/dist-packages (from requests->transformers) (2022.12.7)\n",
            "Requirement already satisfied: idna<4,>=2.5 in /usr/local/lib/python3.9/dist-packages (from requests->transformers) (3.4)\n",
            "Requirement already satisfied: urllib3<1.27,>=1.21.1 in /usr/local/lib/python3.9/dist-packages (from requests->transformers) (1.26.15)\n",
            "Requirement already satisfied: python-dateutil>=2.8.1 in /usr/local/lib/python3.9/dist-packages (from pandas->datasets) (2.8.2)\n",
            "Requirement already satisfied: pytz>=2020.1 in /usr/local/lib/python3.9/dist-packages (from pandas->datasets) (2022.7.1)\n",
            "Requirement already satisfied: six>=1.5 in /usr/local/lib/python3.9/dist-packages (from python-dateutil>=2.8.1->pandas->datasets) (1.16.0)\n",
            "Looking in indexes: https://pypi.org/simple, https://us-python.pkg.dev/colab-wheels/public/simple/\n",
            "Requirement already satisfied: sacrebleu in /usr/local/lib/python3.9/dist-packages (2.3.1)\n",
            "Requirement already satisfied: regex in /usr/local/lib/python3.9/dist-packages (from sacrebleu) (2022.10.31)\n",
            "Requirement already satisfied: lxml in /usr/local/lib/python3.9/dist-packages (from sacrebleu) (4.9.2)\n",
            "Requirement already satisfied: numpy>=1.17 in /usr/local/lib/python3.9/dist-packages (from sacrebleu) (1.22.4)\n",
            "Requirement already satisfied: colorama in /usr/local/lib/python3.9/dist-packages (from sacrebleu) (0.4.6)\n",
            "Requirement already satisfied: portalocker in /usr/local/lib/python3.9/dist-packages (from sacrebleu) (2.7.0)\n",
            "Requirement already satisfied: tabulate>=0.8.9 in /usr/local/lib/python3.9/dist-packages (from sacrebleu) (0.8.10)\n",
            "Looking in indexes: https://pypi.org/simple, https://us-python.pkg.dev/colab-wheels/public/simple/\n",
            "Requirement already satisfied: evaluate in /usr/local/lib/python3.9/dist-packages (0.4.0)\n",
            "Requirement already satisfied: pandas in /usr/local/lib/python3.9/dist-packages (from evaluate) (1.4.4)\n",
            "Requirement already satisfied: tqdm>=4.62.1 in /usr/local/lib/python3.9/dist-packages (from evaluate) (4.65.0)\n",
            "Requirement already satisfied: datasets>=2.0.0 in /usr/local/lib/python3.9/dist-packages (from evaluate) (2.11.0)\n",
            "Requirement already satisfied: huggingface-hub>=0.7.0 in /usr/local/lib/python3.9/dist-packages (from evaluate) (0.13.4)\n",
            "Requirement already satisfied: responses<0.19 in /usr/local/lib/python3.9/dist-packages (from evaluate) (0.18.0)\n",
            "Requirement already satisfied: numpy>=1.17 in /usr/local/lib/python3.9/dist-packages (from evaluate) (1.22.4)\n",
            "Requirement already satisfied: packaging in /usr/local/lib/python3.9/dist-packages (from evaluate) (23.0)\n",
            "Requirement already satisfied: multiprocess in /usr/local/lib/python3.9/dist-packages (from evaluate) (0.70.14)\n",
            "Requirement already satisfied: fsspec[http]>=2021.05.0 in /usr/local/lib/python3.9/dist-packages (from evaluate) (2023.3.0)\n",
            "Requirement already satisfied: xxhash in /usr/local/lib/python3.9/dist-packages (from evaluate) (3.2.0)\n",
            "Requirement already satisfied: dill in /usr/local/lib/python3.9/dist-packages (from evaluate) (0.3.6)\n",
            "Requirement already satisfied: requests>=2.19.0 in /usr/local/lib/python3.9/dist-packages (from evaluate) (2.27.1)\n",
            "Requirement already satisfied: pyarrow>=8.0.0 in /usr/local/lib/python3.9/dist-packages (from datasets>=2.0.0->evaluate) (9.0.0)\n",
            "Requirement already satisfied: aiohttp in /usr/local/lib/python3.9/dist-packages (from datasets>=2.0.0->evaluate) (3.8.4)\n",
            "Requirement already satisfied: pyyaml>=5.1 in /usr/local/lib/python3.9/dist-packages (from datasets>=2.0.0->evaluate) (6.0)\n",
            "Requirement already satisfied: typing-extensions>=3.7.4.3 in /usr/local/lib/python3.9/dist-packages (from huggingface-hub>=0.7.0->evaluate) (4.5.0)\n",
            "Requirement already satisfied: filelock in /usr/local/lib/python3.9/dist-packages (from huggingface-hub>=0.7.0->evaluate) (3.10.7)\n",
            "Requirement already satisfied: urllib3<1.27,>=1.21.1 in /usr/local/lib/python3.9/dist-packages (from requests>=2.19.0->evaluate) (1.26.15)\n",
            "Requirement already satisfied: charset-normalizer~=2.0.0 in /usr/local/lib/python3.9/dist-packages (from requests>=2.19.0->evaluate) (2.0.12)\n",
            "Requirement already satisfied: certifi>=2017.4.17 in /usr/local/lib/python3.9/dist-packages (from requests>=2.19.0->evaluate) (2022.12.7)\n",
            "Requirement already satisfied: idna<4,>=2.5 in /usr/local/lib/python3.9/dist-packages (from requests>=2.19.0->evaluate) (3.4)\n",
            "Requirement already satisfied: pytz>=2020.1 in /usr/local/lib/python3.9/dist-packages (from pandas->evaluate) (2022.7.1)\n",
            "Requirement already satisfied: python-dateutil>=2.8.1 in /usr/local/lib/python3.9/dist-packages (from pandas->evaluate) (2.8.2)\n",
            "Requirement already satisfied: frozenlist>=1.1.1 in /usr/local/lib/python3.9/dist-packages (from aiohttp->datasets>=2.0.0->evaluate) (1.3.3)\n",
            "Requirement already satisfied: multidict<7.0,>=4.5 in /usr/local/lib/python3.9/dist-packages (from aiohttp->datasets>=2.0.0->evaluate) (6.0.4)\n",
            "Requirement already satisfied: async-timeout<5.0,>=4.0.0a3 in /usr/local/lib/python3.9/dist-packages (from aiohttp->datasets>=2.0.0->evaluate) (4.0.2)\n",
            "Requirement already satisfied: attrs>=17.3.0 in /usr/local/lib/python3.9/dist-packages (from aiohttp->datasets>=2.0.0->evaluate) (22.2.0)\n",
            "Requirement already satisfied: yarl<2.0,>=1.0 in /usr/local/lib/python3.9/dist-packages (from aiohttp->datasets>=2.0.0->evaluate) (1.8.2)\n",
            "Requirement already satisfied: aiosignal>=1.1.2 in /usr/local/lib/python3.9/dist-packages (from aiohttp->datasets>=2.0.0->evaluate) (1.3.1)\n",
            "Requirement already satisfied: six>=1.5 in /usr/local/lib/python3.9/dist-packages (from python-dateutil>=2.8.1->pandas->evaluate) (1.16.0)\n",
            "Looking in indexes: https://pypi.org/simple, https://us-python.pkg.dev/colab-wheels/public/simple/\n",
            "Requirement already satisfied: sentencepiece in /usr/local/lib/python3.9/dist-packages (0.1.97)\n",
            "CPU times: user 207 ms, sys: 264 ms, total: 471 ms\n",
            "Wall time: 29.3 s\n"
          ]
        }
      ],
      "source": [
        "%%time\n",
        "# Já monta o drive, pois vamos usar o índice invertido da Aula 1 para usar o BM25 implementado também na aula 1\n",
        "# Além disso, é necessário para salvar/recuperar o modelo tunado\n",
        "from google.colab import drive\n",
        "drive.mount('/content/drive')\n",
        "\n",
        "# Instala libs\n",
        "!pip install faiss-cpu\n",
        "!pip install transformers datasets\n",
        "!pip install sacrebleu\n",
        "!pip install evaluate\n",
        "!pip install sentencepiece"
      ]
    },
    {
      "cell_type": "markdown",
      "metadata": {
        "id": "vjftfeklu3wK"
      },
      "source": [
        "### Download do MS-MARCO tiny"
      ]
    },
    {
      "cell_type": "code",
      "execution_count": null,
      "metadata": {
        "id": "wGdo0CKDu4JB"
      },
      "outputs": [],
      "source": [
        "from pathlib import Path\n",
        "# Só faz o download se ainda não tiver feito\n",
        "if not Path('./collections/msmarco_triples.train.tiny.tsv').is_file():\n",
        "  !wget {url_tiny_msmarco} -P collections # type: ignore"
      ]
    },
    {
      "cell_type": "markdown",
      "metadata": {
        "id": "87JNeunZvEnr"
      },
      "source": [
        "## Fine-tuning\n",
        "\n",
        "Tive dificuldades com esse treinamento. O código de treinamento foi copiado do caderno da Monique."
      ]
    },
    {
      "cell_type": "markdown",
      "metadata": {
        "id": "CE3WL53dvxLN"
      },
      "source": [
        "### Carrega modelo e tokenizador:"
      ]
    },
    {
      "cell_type": "code",
      "execution_count": null,
      "metadata": {
        "colab": {
          "base_uri": "https://localhost:8080/"
        },
        "id": "JNMkklMHvNi0",
        "outputId": "e1b87a73-2b92-4900-f0cb-5d496b0b15be"
      },
      "outputs": [
        {
          "output_type": "stream",
          "name": "stderr",
          "text": [
            "/usr/local/lib/python3.9/dist-packages/transformers/models/t5/tokenization_t5.py:163: FutureWarning: This tokenizer was incorrectly instantiated with a model max length of 512 which will be corrected in Transformers v5.\n",
            "For now, this behavior is kept to avoid breaking backwards compatibility when padding/encoding with `truncation is True`.\n",
            "- Be aware that you SHOULD NOT rely on t5-base automatically truncating your input to 512 when padding/encoding.\n",
            "- If you want to encode/pad to sequences longer than 512 you can either instantiate this tokenizer with `model_max_length` or pass `max_length` when encoding/padding.\n",
            "- To avoid this warning, please instantiate this tokenizer with `model_max_length` set to your preferred value.\n",
            "  warnings.warn(\n"
          ]
        }
      ],
      "source": [
        "import torch\n",
        "from transformers import AutoModel, AutoTokenizer, T5Tokenizer, T5ForConditionalGeneration\n",
        "\n",
        "device = torch.device(\"cuda\" if torch.cuda.is_available() else \"cpu\")\n",
        "\n",
        "tokenizer = T5Tokenizer.from_pretrained(nome_modelo)\n",
        "model = T5ForConditionalGeneration.from_pretrained(url_modelo_salvo).to(device) if carregar_modelo_tunado else T5ForConditionalGeneration.from_pretrained(nome_modelo).to(device)"
      ]
    },
    {
      "cell_type": "markdown",
      "metadata": {
        "id": "g_N1OD4-vazc"
      },
      "source": [
        "### Criação dos dadasets de treino e validação"
      ]
    },
    {
      "cell_type": "code",
      "execution_count": null,
      "metadata": {
        "id": "Ivcfh-Gsvgvj"
      },
      "outputs": [],
      "source": [
        "import pandas as pd\n",
        "from sklearn.model_selection import train_test_split\n",
        "from datasets import load_dataset\n",
        "from datasets import Dataset\n",
        "\n",
        "# Cria dataframes \n",
        "\n",
        "msmarco_df = pd.read_csv(\"collections/msmarco_triples.train.tiny.tsv\", sep='\\t', names=['query', 'relevante', 'nao_relevante'], header=None)\n",
        "msmarco_train_df, msmarco_val_df = train_test_split(msmarco_df, test_size=0.1, random_state=42)"
      ]
    },
    {
      "cell_type": "code",
      "execution_count": null,
      "metadata": {
        "id": "GeiwMvGBvqW7"
      },
      "outputs": [],
      "source": [
        "from torch.utils import data\n",
        "\n",
        "class MsMarcoDataset(data.Dataset):\n",
        "  def __init__(self, dataframe, tokenizer):\n",
        "    self.df = dataframe\n",
        "    self.tokenizer = tokenizer\n",
        "\n",
        "  def __len__(self):\n",
        "    return len(self.df)\n",
        "\n",
        "  def __getitem__(self, index):\n",
        "    tokenized_input = self.tokenizer(self.df.iloc[index]['relevante'])\n",
        "    tokenized_query = self.tokenizer(self.df.iloc[index]['query'])\n",
        "    return {\"input_ids\": tokenized_input[\"input_ids\"], \n",
        "            \"attention_mask\": tokenized_input[\"attention_mask\"], \n",
        "            \"labels\": tokenized_query[\"input_ids\"]}\n",
        "\n",
        "\n",
        "# Cria datasets\n",
        "msmarco_train_ds = MsMarcoDataset(msmarco_train_df, tokenizer)\n",
        "msmarco_val_ds = MsMarcoDataset(msmarco_val_df, tokenizer)"
      ]
    },
    {
      "cell_type": "markdown",
      "metadata": {
        "id": "-_-W86BCwdip"
      },
      "source": [
        "### Treino do modelo"
      ]
    },
    {
      "cell_type": "code",
      "execution_count": null,
      "metadata": {
        "id": "eeAMgWf2we8k"
      },
      "outputs": [],
      "source": [
        "from transformers import Trainer, TrainingArguments, DataCollatorForSeq2Seq, Seq2SeqTrainer, Seq2SeqTrainingArguments, T5ForConditionalGeneration\n",
        "import numpy as np\n",
        "import evaluate\n",
        "metric = evaluate.load(\"sacrebleu\")\n",
        "\n",
        "def postprocess_text(preds, labels):\n",
        "    preds = [pred.strip() for pred in preds]\n",
        "    labels = [[label.strip()] for label in labels]\n",
        "    return preds, labels\n",
        "\n",
        "def compute_metrics(eval_preds):\n",
        "    preds, labels = eval_preds\n",
        "    if isinstance(preds, tuple):\n",
        "        preds = preds[0]\n",
        "    decoded_preds = tokenizer.batch_decode(preds, skip_special_tokens=True)\n",
        "    \n",
        "    labels = np.where(labels != -100, labels, tokenizer.pad_token_id)\n",
        "    decoded_labels = tokenizer.batch_decode(labels, skip_special_tokens=True)\n",
        "\n",
        "    # Some simple post-processing\n",
        "    decoded_preds, decoded_labels = postprocess_text(decoded_preds, decoded_labels)\n",
        "\n",
        "    result = metric.compute(predictions=decoded_preds, references=decoded_labels)\n",
        "    result = {\"bleu\": result[\"score\"]}\n",
        "\n",
        "    return result\n",
        "\n",
        "def treina_modelo_e_salva():\n",
        "  training_args = Seq2SeqTrainingArguments(output_dir=f\"/content/drive/My Drive/IA368-DD_deep_learning_busca/Aula5-t5-doc2query/modelo_doc_relevante\",\n",
        "                                            overwrite_output_dir=True,\n",
        "                                            per_device_train_batch_size=batch_size,\n",
        "                                            per_device_eval_batch_size=batch_size,\n",
        "                                            gradient_accumulation_steps=8,\n",
        "                                            evaluation_strategy='steps',\n",
        "                                            eval_steps=steps, logging_steps=steps, \n",
        "                                            save_steps=steps,\n",
        "                                            predict_with_generate=True,\n",
        "                                            fp16=True, \n",
        "                                            num_train_epochs=100,\n",
        "                                            load_best_model_at_end=True,\n",
        "                                            metric_for_best_model='bleu',\n",
        "                                            save_total_limit = 2\n",
        "                                          )\n",
        "  #Se não usar o collator e tokenizar com parâmetros além da entrada, todo tipo de erro acontece.\n",
        "  data_collator = DataCollatorForSeq2Seq(\n",
        "      tokenizer,\n",
        "      model=model,\n",
        "      label_pad_token_id=-100,\n",
        "      pad_to_multiple_of=8 if training_args.fp16 else None,\n",
        "  )\n",
        "\n",
        "  trainer = Seq2SeqTrainer(model=model,\n",
        "                          args=training_args,\n",
        "                          train_dataset=msmarco_train_ds,\n",
        "                          eval_dataset=msmarco_val_ds,\n",
        "                          data_collator=data_collator,\n",
        "                          tokenizer=tokenizer,\n",
        "                          compute_metrics=compute_metrics\n",
        "                          )\n",
        "\n",
        "  train_results = trainer.train()\n",
        "  model.save_pretrained(url_modelo_salvo)\n",
        "\n",
        "if treinar_modelo:\n",
        "  treina_modelo_e_salva()"
      ]
    },
    {
      "cell_type": "markdown",
      "metadata": {
        "id": "zNuTautexkoO"
      },
      "source": [
        "## Extração de queries"
      ]
    },
    {
      "cell_type": "markdown",
      "metadata": {
        "id": "-MRDtGMDy0uR"
      },
      "source": [
        "Download do TREC-COVID:"
      ]
    },
    {
      "cell_type": "code",
      "execution_count": null,
      "metadata": {
        "id": "nUPWLOvrxn4q"
      },
      "outputs": [],
      "source": [
        "from pathlib import Path\n",
        "import hashlib\n",
        "\n",
        "# Baixa o trec-covid.zip\n",
        "if not Path('./collections/trec-covid.zip').is_file():\n",
        "  # O arquivo ainda não foi baixado. Verifica se está no drive:\n",
        "  if Path('/content/drive/My Drive/IA368-DD_deep_learning_busca/Aula5-t5-doc2query/trec-covid.zip').is_file():\n",
        "    !mkdir -p './collections/' && cp '/content/drive/My Drive/IA368-DD_deep_learning_busca/Aula5-t5-doc2query/trec-covid.zip' './collections/trec-covid.zip'  # type: ignore\n",
        "    !unzip -o collections/trec-covid.zip -d ./collections # type: ignore\n",
        "  else:\n",
        "    !wget {url_trec_covid} -P collections # type: ignore\n",
        "    !mkdir -p '/content/drive/My Drive/IA368-DD_deep_learning_busca/Aula5-t5-doc2query/' && cp './collections/trec-covid.zip' '/content/drive/My Drive/IA368-DD_deep_learning_busca/Aula5-t5-doc2query/'\n",
        "    !unzip -o collections/trec-covid.zip -d ./collections # type: ignore"
      ]
    },
    {
      "cell_type": "markdown",
      "metadata": {
        "id": "5P-LjyE_3Mpp"
      },
      "source": [
        "Extrai todos os documentos do TREC-COVID e coloca em um dict:"
      ]
    },
    {
      "cell_type": "code",
      "execution_count": null,
      "metadata": {
        "colab": {
          "base_uri": "https://localhost:8080/"
        },
        "id": "pTPPkSMj3Lzc",
        "outputId": "a7750426-4f03-4681-e9cc-69d6abd5a03e"
      },
      "outputs": [
        {
          "output_type": "stream",
          "name": "stdout",
          "text": [
            "CPU times: user 605 ms, sys: 174 ms, total: 779 ms\n",
            "Wall time: 977 ms\n"
          ]
        }
      ],
      "source": [
        "%%time\n",
        "from collections import OrderedDict\n",
        "import json\n",
        "import pickle\n",
        "\n",
        "trec_covid_docs = OrderedDict({})\n",
        "\n",
        "if carregar_arquivo_docs_queries_expandidas:\n",
        "  with open(arquivo_docs_queries_expandidas, 'rb') as f:\n",
        "    trec_covid_docs = pickle.load(f)\n",
        "else:\n",
        "  with open('./collections/trec-covid/corpus.jsonl') as file:\n",
        "    for line in file:\n",
        "      doc = json.loads(line)\n",
        "      trec_covid_docs[doc['_id']] = {\"doc_original\": f\"{doc['title']} {doc['text']}\"}"
      ]
    },
    {
      "cell_type": "code",
      "execution_count": null,
      "metadata": {
        "colab": {
          "base_uri": "https://localhost:8080/"
        },
        "id": "wSLS__aY5HI_",
        "outputId": "ad949c41-dec0-4d72-c734-f0a6aff16e4c"
      },
      "outputs": [
        {
          "output_type": "stream",
          "name": "stdout",
          "text": [
            "CPU times: user 5 µs, sys: 0 ns, total: 5 µs\n",
            "Wall time: 7.15 µs\n"
          ]
        }
      ],
      "source": [
        "%%time\n",
        "\n",
        "def predict(texts, num_return_sequences=5):\n",
        "  input_ids = tokenizer(texts, return_tensors=\"pt\", padding=\"max_length\", truncation=True).input_ids.to(device)\n",
        "  sequence_ids = model.generate(input_ids, do_sample=True, top_p=0.9, max_new_tokens=128, num_return_sequences=num_return_sequences)\n",
        "  sequences = tokenizer.batch_decode(sequence_ids, skip_special_tokens=True)\n",
        "  return sequences\n",
        "\n",
        "# Teste pra tamanho do batch\n",
        "#texto = trec_covid_docs['ug7v899j']['doc_original']\n",
        "#retorno = predict([texto, texto, texto, texto], 50)"
      ]
    },
    {
      "cell_type": "code",
      "execution_count": null,
      "metadata": {
        "colab": {
          "base_uri": "https://localhost:8080/"
        },
        "id": "2khpTjOCHDbQ",
        "outputId": "4c6ffc97-98bf-4f06-fa7b-382cb3c018da"
      },
      "outputs": [
        {
          "output_type": "stream",
          "name": "stdout",
          "text": [
            "Tue Apr 11 17:25:31 2023       \n",
            "+-----------------------------------------------------------------------------+\n",
            "| NVIDIA-SMI 525.85.12    Driver Version: 525.85.12    CUDA Version: 12.0     |\n",
            "|-------------------------------+----------------------+----------------------+\n",
            "| GPU  Name        Persistence-M| Bus-Id        Disp.A | Volatile Uncorr. ECC |\n",
            "| Fan  Temp  Perf  Pwr:Usage/Cap|         Memory-Usage | GPU-Util  Compute M. |\n",
            "|                               |                      |               MIG M. |\n",
            "|===============================+======================+======================|\n",
            "|   0  Tesla T4            Off  | 00000000:00:04.0 Off |                    0 |\n",
            "| N/A   71C    P0    30W /  70W |  11707MiB / 15360MiB |      0%      Default |\n",
            "|                               |                      |                  N/A |\n",
            "+-------------------------------+----------------------+----------------------+\n",
            "                                                                               \n",
            "+-----------------------------------------------------------------------------+\n",
            "| Processes:                                                                  |\n",
            "|  GPU   GI   CI        PID   Type   Process name                  GPU Memory |\n",
            "|        ID   ID                                                   Usage      |\n",
            "|=============================================================================|\n",
            "+-----------------------------------------------------------------------------+\n"
          ]
        }
      ],
      "source": [
        "from tqdm.auto import tqdm\n",
        "import pickle\n",
        "import json\n",
        "import torch\n",
        "torch.manual_seed(42)\n",
        "\n",
        "!nvidia-smi"
      ]
    },
    {
      "cell_type": "code",
      "execution_count": null,
      "metadata": {
        "colab": {
          "base_uri": "https://localhost:8080/",
          "height": 84,
          "referenced_widgets": [
            "62b36d21e29e45968eadee58f4355a26",
            "40526b5ac27a4bb998fed0cb89bd6644",
            "7e99ca1687dc4234a9d79efbb743d8f7",
            "fa08aa1f835a4be7b89542da99a05f53",
            "157a4df02f64411cb6aede44c66bedd2",
            "670746b25d1944dc9e5dd6a753ce2eb5",
            "b9a35f8c330b4e148de5720c9bb247f4",
            "326d22df896d4756b26ce5cdd1707a00",
            "0734238ed2064b91be665303da1cf6b0",
            "f7276181da964267a46f4da846585677",
            "b886f6a4d91647e8aff40023ff32a581"
          ]
        },
        "id": "BXAQG8KpACgK",
        "outputId": "ebf5ca6f-abf0-46be-c36d-10e356e12f0d"
      },
      "outputs": [
        {
          "output_type": "display_data",
          "data": {
            "text/plain": [
              "  0%|          | 0/209 [00:00<?, ?it/s]"
            ],
            "application/vnd.jupyter.widget-view+json": {
              "version_major": 2,
              "version_minor": 0,
              "model_id": "62b36d21e29e45968eadee58f4355a26"
            }
          },
          "metadata": {}
        },
        {
          "output_type": "stream",
          "name": "stdout",
          "text": [
            "Arquivo salvo. i = 168000\n",
            "Arquivo salvo. i = 171328\n"
          ]
        }
      ],
      "source": [
        "def expande_docs_e_salva():\n",
        "  # Recupera a lista de ids dos documentos, que é a key de trec_covid_docs\n",
        "  ids_docs = list(trec_covid_docs.keys())\n",
        "\n",
        "  # Faz o loop em todos os documentos, processando batch_size_inferencia de cada vez\n",
        "  for i in tqdm(range(inferir_docs_a_partir_do_indice, len(ids_docs), batch_size_inferencia)):\n",
        "    # Para cada batch, recupera a lista de ids que o batch está tratando ...\n",
        "    ids = ids_docs[i:i+batch_size_inferencia]\n",
        "    # ... e o documento original que deve ser expandido\n",
        "    texts = [trec_covid_docs[id]['doc_original'] for id in ids]\n",
        "\n",
        "    # Processa as queries...\n",
        "    queries_batch = predict(texts, num_return_sequences=numero_queries_geradas)\n",
        "    \n",
        "    # Processou em batch, então o resultado também é em batch. Tem que desagrupar:\n",
        "    for j in range(0, len(ids)*numero_queries_geradas, numero_queries_geradas):\n",
        "      # Recupera a lista de queries para a id (tratamos numero_queries_geradas id's por batch)\n",
        "      id = int(j/numero_queries_geradas)\n",
        "      queries_para_id = queries_batch[j:j+numero_queries_geradas]\n",
        "      # E popula o arquivo trec_covid_docs com as queries expandidas\n",
        "      trec_covid_docs[ids[id]]['query_expandida'] = \" \".join(queries_para_id)\n",
        "\n",
        "    # Vamos salvar o arquivo a cada 300 batchs processados\n",
        "    if i % (300*batch_size_inferencia) == 0:\n",
        "      with open(arquivo_docs_queries_expandidas, 'wb') as f:\n",
        "        pickle.dump(trec_covid_docs, f)\n",
        "      print(f'Arquivo salvo. i = {i}')\n",
        "  # Salva o arquivo completo\n",
        "  with open(arquivo_docs_queries_expandidas, 'wb') as f:\n",
        "    pickle.dump(trec_covid_docs, f)\n",
        "  print(f'Arquivo salvo. i = {i}')\n",
        "\n",
        "if expandir_docs:\n",
        "  expande_docs_e_salva()"
      ]
    }
  ],
  "metadata": {
    "accelerator": "GPU",
    "colab": {
      "provenance": []
    },
    "gpuClass": "standard",
    "kernelspec": {
      "display_name": "Python 3",
      "name": "python3"
    },
    "language_info": {
      "name": "python"
    },
    "widgets": {
      "application/vnd.jupyter.widget-state+json": {
        "62b36d21e29e45968eadee58f4355a26": {
          "model_module": "@jupyter-widgets/controls",
          "model_name": "HBoxModel",
          "model_module_version": "1.5.0",
          "state": {
            "_dom_classes": [],
            "_model_module": "@jupyter-widgets/controls",
            "_model_module_version": "1.5.0",
            "_model_name": "HBoxModel",
            "_view_count": null,
            "_view_module": "@jupyter-widgets/controls",
            "_view_module_version": "1.5.0",
            "_view_name": "HBoxView",
            "box_style": "",
            "children": [
              "IPY_MODEL_40526b5ac27a4bb998fed0cb89bd6644",
              "IPY_MODEL_7e99ca1687dc4234a9d79efbb743d8f7",
              "IPY_MODEL_fa08aa1f835a4be7b89542da99a05f53"
            ],
            "layout": "IPY_MODEL_157a4df02f64411cb6aede44c66bedd2"
          }
        },
        "40526b5ac27a4bb998fed0cb89bd6644": {
          "model_module": "@jupyter-widgets/controls",
          "model_name": "HTMLModel",
          "model_module_version": "1.5.0",
          "state": {
            "_dom_classes": [],
            "_model_module": "@jupyter-widgets/controls",
            "_model_module_version": "1.5.0",
            "_model_name": "HTMLModel",
            "_view_count": null,
            "_view_module": "@jupyter-widgets/controls",
            "_view_module_version": "1.5.0",
            "_view_name": "HTMLView",
            "description": "",
            "description_tooltip": null,
            "layout": "IPY_MODEL_670746b25d1944dc9e5dd6a753ce2eb5",
            "placeholder": "​",
            "style": "IPY_MODEL_b9a35f8c330b4e148de5720c9bb247f4",
            "value": "100%"
          }
        },
        "7e99ca1687dc4234a9d79efbb743d8f7": {
          "model_module": "@jupyter-widgets/controls",
          "model_name": "FloatProgressModel",
          "model_module_version": "1.5.0",
          "state": {
            "_dom_classes": [],
            "_model_module": "@jupyter-widgets/controls",
            "_model_module_version": "1.5.0",
            "_model_name": "FloatProgressModel",
            "_view_count": null,
            "_view_module": "@jupyter-widgets/controls",
            "_view_module_version": "1.5.0",
            "_view_name": "ProgressView",
            "bar_style": "success",
            "description": "",
            "description_tooltip": null,
            "layout": "IPY_MODEL_326d22df896d4756b26ce5cdd1707a00",
            "max": 209,
            "min": 0,
            "orientation": "horizontal",
            "style": "IPY_MODEL_0734238ed2064b91be665303da1cf6b0",
            "value": 209
          }
        },
        "fa08aa1f835a4be7b89542da99a05f53": {
          "model_module": "@jupyter-widgets/controls",
          "model_name": "HTMLModel",
          "model_module_version": "1.5.0",
          "state": {
            "_dom_classes": [],
            "_model_module": "@jupyter-widgets/controls",
            "_model_module_version": "1.5.0",
            "_model_name": "HTMLModel",
            "_view_count": null,
            "_view_module": "@jupyter-widgets/controls",
            "_view_module_version": "1.5.0",
            "_view_name": "HTMLView",
            "description": "",
            "description_tooltip": null,
            "layout": "IPY_MODEL_f7276181da964267a46f4da846585677",
            "placeholder": "​",
            "style": "IPY_MODEL_b886f6a4d91647e8aff40023ff32a581",
            "value": " 209/209 [25:48&lt;00:00,  6.32s/it]"
          }
        },
        "157a4df02f64411cb6aede44c66bedd2": {
          "model_module": "@jupyter-widgets/base",
          "model_name": "LayoutModel",
          "model_module_version": "1.2.0",
          "state": {
            "_model_module": "@jupyter-widgets/base",
            "_model_module_version": "1.2.0",
            "_model_name": "LayoutModel",
            "_view_count": null,
            "_view_module": "@jupyter-widgets/base",
            "_view_module_version": "1.2.0",
            "_view_name": "LayoutView",
            "align_content": null,
            "align_items": null,
            "align_self": null,
            "border": null,
            "bottom": null,
            "display": null,
            "flex": null,
            "flex_flow": null,
            "grid_area": null,
            "grid_auto_columns": null,
            "grid_auto_flow": null,
            "grid_auto_rows": null,
            "grid_column": null,
            "grid_gap": null,
            "grid_row": null,
            "grid_template_areas": null,
            "grid_template_columns": null,
            "grid_template_rows": null,
            "height": null,
            "justify_content": null,
            "justify_items": null,
            "left": null,
            "margin": null,
            "max_height": null,
            "max_width": null,
            "min_height": null,
            "min_width": null,
            "object_fit": null,
            "object_position": null,
            "order": null,
            "overflow": null,
            "overflow_x": null,
            "overflow_y": null,
            "padding": null,
            "right": null,
            "top": null,
            "visibility": null,
            "width": null
          }
        },
        "670746b25d1944dc9e5dd6a753ce2eb5": {
          "model_module": "@jupyter-widgets/base",
          "model_name": "LayoutModel",
          "model_module_version": "1.2.0",
          "state": {
            "_model_module": "@jupyter-widgets/base",
            "_model_module_version": "1.2.0",
            "_model_name": "LayoutModel",
            "_view_count": null,
            "_view_module": "@jupyter-widgets/base",
            "_view_module_version": "1.2.0",
            "_view_name": "LayoutView",
            "align_content": null,
            "align_items": null,
            "align_self": null,
            "border": null,
            "bottom": null,
            "display": null,
            "flex": null,
            "flex_flow": null,
            "grid_area": null,
            "grid_auto_columns": null,
            "grid_auto_flow": null,
            "grid_auto_rows": null,
            "grid_column": null,
            "grid_gap": null,
            "grid_row": null,
            "grid_template_areas": null,
            "grid_template_columns": null,
            "grid_template_rows": null,
            "height": null,
            "justify_content": null,
            "justify_items": null,
            "left": null,
            "margin": null,
            "max_height": null,
            "max_width": null,
            "min_height": null,
            "min_width": null,
            "object_fit": null,
            "object_position": null,
            "order": null,
            "overflow": null,
            "overflow_x": null,
            "overflow_y": null,
            "padding": null,
            "right": null,
            "top": null,
            "visibility": null,
            "width": null
          }
        },
        "b9a35f8c330b4e148de5720c9bb247f4": {
          "model_module": "@jupyter-widgets/controls",
          "model_name": "DescriptionStyleModel",
          "model_module_version": "1.5.0",
          "state": {
            "_model_module": "@jupyter-widgets/controls",
            "_model_module_version": "1.5.0",
            "_model_name": "DescriptionStyleModel",
            "_view_count": null,
            "_view_module": "@jupyter-widgets/base",
            "_view_module_version": "1.2.0",
            "_view_name": "StyleView",
            "description_width": ""
          }
        },
        "326d22df896d4756b26ce5cdd1707a00": {
          "model_module": "@jupyter-widgets/base",
          "model_name": "LayoutModel",
          "model_module_version": "1.2.0",
          "state": {
            "_model_module": "@jupyter-widgets/base",
            "_model_module_version": "1.2.0",
            "_model_name": "LayoutModel",
            "_view_count": null,
            "_view_module": "@jupyter-widgets/base",
            "_view_module_version": "1.2.0",
            "_view_name": "LayoutView",
            "align_content": null,
            "align_items": null,
            "align_self": null,
            "border": null,
            "bottom": null,
            "display": null,
            "flex": null,
            "flex_flow": null,
            "grid_area": null,
            "grid_auto_columns": null,
            "grid_auto_flow": null,
            "grid_auto_rows": null,
            "grid_column": null,
            "grid_gap": null,
            "grid_row": null,
            "grid_template_areas": null,
            "grid_template_columns": null,
            "grid_template_rows": null,
            "height": null,
            "justify_content": null,
            "justify_items": null,
            "left": null,
            "margin": null,
            "max_height": null,
            "max_width": null,
            "min_height": null,
            "min_width": null,
            "object_fit": null,
            "object_position": null,
            "order": null,
            "overflow": null,
            "overflow_x": null,
            "overflow_y": null,
            "padding": null,
            "right": null,
            "top": null,
            "visibility": null,
            "width": null
          }
        },
        "0734238ed2064b91be665303da1cf6b0": {
          "model_module": "@jupyter-widgets/controls",
          "model_name": "ProgressStyleModel",
          "model_module_version": "1.5.0",
          "state": {
            "_model_module": "@jupyter-widgets/controls",
            "_model_module_version": "1.5.0",
            "_model_name": "ProgressStyleModel",
            "_view_count": null,
            "_view_module": "@jupyter-widgets/base",
            "_view_module_version": "1.2.0",
            "_view_name": "StyleView",
            "bar_color": null,
            "description_width": ""
          }
        },
        "f7276181da964267a46f4da846585677": {
          "model_module": "@jupyter-widgets/base",
          "model_name": "LayoutModel",
          "model_module_version": "1.2.0",
          "state": {
            "_model_module": "@jupyter-widgets/base",
            "_model_module_version": "1.2.0",
            "_model_name": "LayoutModel",
            "_view_count": null,
            "_view_module": "@jupyter-widgets/base",
            "_view_module_version": "1.2.0",
            "_view_name": "LayoutView",
            "align_content": null,
            "align_items": null,
            "align_self": null,
            "border": null,
            "bottom": null,
            "display": null,
            "flex": null,
            "flex_flow": null,
            "grid_area": null,
            "grid_auto_columns": null,
            "grid_auto_flow": null,
            "grid_auto_rows": null,
            "grid_column": null,
            "grid_gap": null,
            "grid_row": null,
            "grid_template_areas": null,
            "grid_template_columns": null,
            "grid_template_rows": null,
            "height": null,
            "justify_content": null,
            "justify_items": null,
            "left": null,
            "margin": null,
            "max_height": null,
            "max_width": null,
            "min_height": null,
            "min_width": null,
            "object_fit": null,
            "object_position": null,
            "order": null,
            "overflow": null,
            "overflow_x": null,
            "overflow_y": null,
            "padding": null,
            "right": null,
            "top": null,
            "visibility": null,
            "width": null
          }
        },
        "b886f6a4d91647e8aff40023ff32a581": {
          "model_module": "@jupyter-widgets/controls",
          "model_name": "DescriptionStyleModel",
          "model_module_version": "1.5.0",
          "state": {
            "_model_module": "@jupyter-widgets/controls",
            "_model_module_version": "1.5.0",
            "_model_name": "DescriptionStyleModel",
            "_view_count": null,
            "_view_module": "@jupyter-widgets/base",
            "_view_module_version": "1.2.0",
            "_view_name": "StyleView",
            "description_width": ""
          }
        }
      }
    }
  },
  "nbformat": 4,
  "nbformat_minor": 0
}